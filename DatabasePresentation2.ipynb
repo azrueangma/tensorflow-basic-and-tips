{
 "cells": [
  {
   "cell_type": "code",
   "execution_count": 1,
   "metadata": {},
   "outputs": [
    {
     "name": "stdout",
     "output_type": "stream",
     "text": [
      "훈련집합의 총 샘플의 수 :  75174\n",
      "훈련집합의 총 속성의 수 :  65\n",
      "총 샘플의 수 :  25059\n",
      "총 속성의 수 :  65\n",
      "===== Logistic Regression =====\n",
      "훈련집합의 정확도 : 95.88%\n",
      "시험집합의 정확도 : 95.78%\n",
      "f1 score :  0.22091310751104568\n",
      "오차 행렬: \n",
      "[[23851   109]\n",
      " [  949   150]]\n"
     ]
    }
   ],
   "source": [
    "import os\n",
    "import numpy as np \n",
    "import matplotlib.pyplot as plt\n",
    "from sklearn.linear_model import LogisticRegression\n",
    "from sklearn.naive_bayes import GaussianNB\n",
    "from sklearn.ensemble import RandomForestClassifier\n",
    "from sklearn.ensemble import BaggingClassifier\n",
    "from sklearn.neighbors import KNeighborsClassifier\n",
    "from sklearn.metrics import confusion_matrix\n",
    "from sklearn.metrics import f1_score\n",
    "\n",
    "def trainScale(data):\n",
    "    nfeatures = np.size(data,1)\n",
    "    new_data = np.zeros_like(data)\n",
    "    train_min = []\n",
    "    train_max = []\n",
    "    for i in range(nfeatures):\n",
    "        temp_min = np.min(data[:,i])\n",
    "        train_min.append(temp_min)\n",
    "        temp_max = np.max(data[:,i])\n",
    "        train_max.append(temp_max)\n",
    "        new_data[:,i] = (data[:,i]-temp_min)/(temp_max-temp_min)\n",
    "    return new_data, train_min, train_max\n",
    "\n",
    "def testScale(data, train_min, trian_max):\n",
    "    nfeatures = np.size(data,1)\n",
    "    new_data = np.zeros_like(data)\n",
    "    for i in range(nfeatures):\n",
    "        temp_min = train_min[i]\n",
    "        temp_max = train_max[i]\n",
    "        new_data[:,i] = (data[:,i]-temp_min)/(temp_max-temp_min)\n",
    "    return new_data\n",
    "\n",
    "default_dir = \"D:/Day5/Data/BigContest\"\n",
    "train = np.load(default_dir+'/train_set.npy')\n",
    "x_train = train[:,0:-1]\n",
    "x_train, train_min, train_max = trainScale(x_train)\n",
    "y_train = train[:,-1]\n",
    "\n",
    "nsamples = len(x_train)\n",
    "ndim = np.size(x_train,1)\n",
    "print(\"훈련집합의 총 샘플의 수 : \", nsamples)\n",
    "print(\"훈련집합의 총 속성의 수 : \",ndim)\n",
    "\n",
    "test = np.load(default_dir+'/test_set.npy')\n",
    "x_test = test[:,0:-1]\n",
    "x_test = testScale(x_test, train_min, train_max)\n",
    "y_test = test[:,-1]\n",
    "nesamples = len(x_test)\n",
    "nedim = np.size(x_test,1)\n",
    "print(\"총 샘플의 수 : \", nesamples)\n",
    "print(\"총 속성의 수 : \",nedim)\n",
    "\n",
    "#logistic regression\n",
    "lr = LogisticRegression()\n",
    "\n",
    "lr.fit(x_train,y_train)\n",
    "tacc = lr.score(x_train,y_train)\n",
    "teacc = lr.score(x_test, y_test)\n",
    "tepredict = lr.predict(x_test)\n",
    "print(\"===== Logistic Regression =====\")\n",
    "print(\"훈련집합의 정확도 : {:.2%}\".format(tacc))\n",
    "print(\"시험집합의 정확도 : {:.2%}\".format(teacc))\n",
    "print(\"f1 score : \",f1_score(y_test,tepredict))\n",
    "\n",
    "confusion = confusion_matrix(y_test, tepredict)\n",
    "print(\"오차 행렬: \\n{}\".format(confusion))"
   ]
  },
  {
   "cell_type": "code",
   "execution_count": null,
   "metadata": {},
   "outputs": [],
   "source": []
  }
 ],
 "metadata": {
  "kernelspec": {
   "display_name": "Python 3",
   "language": "python",
   "name": "python3"
  },
  "language_info": {
   "codemirror_mode": {
    "name": "ipython",
    "version": 3
   },
   "file_extension": ".py",
   "mimetype": "text/x-python",
   "name": "python",
   "nbconvert_exporter": "python",
   "pygments_lexer": "ipython3",
   "version": "3.6.4"
  }
 },
 "nbformat": 4,
 "nbformat_minor": 2
}
